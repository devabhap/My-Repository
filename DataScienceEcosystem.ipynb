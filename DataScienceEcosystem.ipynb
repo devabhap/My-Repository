{
 "cells": [
  {
   "cell_type": "markdown",
   "id": "0d02a199-3212-43cd-ae49-95e4b5a77c24",
   "metadata": {},
   "source": [
    "# Data Science Tools and Ecosystem"
   ]
  },
  {
   "cell_type": "markdown",
   "id": "258fe02d-9e1e-4359-ae43-bb08ede819ee",
   "metadata": {},
   "source": [
    "In this notebook, Data Science Tools and Ecosystem are summarized."
   ]
  },
  {
   "cell_type": "markdown",
   "id": "f2daac25-8ef2-4d7e-bcd6-a76ebb1096ab",
   "metadata": {},
   "source": [
    "**Objectives:**\n",
    "- List popular languages for Data Science\n",
    "- Introduce common data science libraries\n",
    "- Explain how to create and manipulate data frames in Python\n",
    "- Provide examples of arithmetic expressions and operations in Python\n",
    "- Demonstrate how to use Git and Github for version control in data science projects"
   ]
  },
  {
   "cell_type": "markdown",
   "id": "41cb21b3-63ed-4d88-b970-6f24d1f80ed2",
   "metadata": {},
   "source": [
    "Some of the popular languages that data scientists use are:\n",
    "\n",
    "1. Python\n",
    "2. R\n",
    "3. SQL"
   ]
  },
  {
   "cell_type": "markdown",
   "id": "41448ac6-2181-4147-8f32-b002a6adea40",
   "metadata": {},
   "source": [
    "Some of the commonly used libraries used by data scientists in Python include:\n",
    "\n",
    "1. NumPy: for numerical computations and mathematical operations.\n",
    "2. Pandas: for data manipulation and analysis.\n",
    "3. Matplotlib: for data visualization and plotting."
   ]
  },
  {
   "cell_type": "markdown",
   "id": "57f12726-c541-4fb6-ab61-df8526263a00",
   "metadata": {},
   "source": [
    "| Data Science Tools |\n",
    "| ------------------ |\n",
    "| Jupyter Notebook   |\n",
    "| RStudio            |\n",
    "| Spyder             |"
   ]
  },
  {
   "cell_type": "markdown",
   "id": "64db5f60-07a9-4142-b1b4-2ddadd800b2a",
   "metadata": {},
   "source": [
    "### Below are a few examples of evaluating arithmetic expressions in Python."
   ]
  },
  {
   "cell_type": "code",
   "execution_count": 4,
   "id": "8a6c44d3-616d-47fc-9d4e-37ceb2fe31e1",
   "metadata": {},
   "outputs": [
    {
     "data": {
      "text/plain": [
       "17"
      ]
     },
     "execution_count": 4,
     "metadata": {},
     "output_type": "execute_result"
    }
   ],
   "source": [
    "# This is a simple arithmetic expression to multiply then add integers\n",
    "3*4+5"
   ]
  },
  {
   "cell_type": "code",
   "execution_count": 5,
   "id": "c84d1716-b965-45d9-b92d-309e2ea11254",
   "metadata": {},
   "outputs": [
    {
     "data": {
      "text/plain": [
       "3.3333333333333335"
      ]
     },
     "execution_count": 5,
     "metadata": {},
     "output_type": "execute_result"
    }
   ],
   "source": [
    "# This will convert 200 minutes to hours by dividing by 60\n",
    "200 / 60"
   ]
  },
  {
   "cell_type": "markdown",
   "id": "d331d3a2-9694-41dd-8242-86e1b6d825da",
   "metadata": {},
   "source": [
    "## Author\n",
    "Phaneendra Sai Sri Devabhakthuni"
   ]
  },
  {
   "cell_type": "code",
   "execution_count": null,
   "id": "c35ffec4-1e51-4b71-aac0-8ce30aa5038d",
   "metadata": {},
   "outputs": [],
   "source": []
  }
 ],
 "metadata": {
  "kernelspec": {
   "display_name": "Python",
   "language": "python",
   "name": "conda-env-python-py"
  },
  "language_info": {
   "codemirror_mode": {
    "name": "ipython",
    "version": 3
   },
   "file_extension": ".py",
   "mimetype": "text/x-python",
   "name": "python",
   "nbconvert_exporter": "python",
   "pygments_lexer": "ipython3",
   "version": "3.7.12"
  }
 },
 "nbformat": 4,
 "nbformat_minor": 5
}
